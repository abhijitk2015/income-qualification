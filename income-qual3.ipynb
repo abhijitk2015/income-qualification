{
  "nbformat": 4,
  "nbformat_minor": 0,
  "metadata": {
    "colab": {
      "name": "Welcome To Colaboratory",
      "version": "0.3.2",
      "provenance": [],
      "collapsed_sections": [],
      "include_colab_link": true
    },
    "kernelspec": {
      "display_name": "Python 3",
      "name": "python3"
    }
  },
  "cells": [
    {
      "cell_type": "markdown",
      "metadata": {
        "id": "view-in-github",
        "colab_type": "text"
      },
      "source": [
        "<a href=\"https://colab.research.google.com/github/pksvv/income-qualification/blob/master/income-qual3.ipynb\" target=\"_parent\"><img src=\"https://colab.research.google.com/assets/colab-badge.svg\" alt=\"Open In Colab\"/></a>"
      ]
    },
    {
      "cell_type": "code",
      "metadata": {
        "id": "FJWy3TJJBmR3",
        "colab_type": "code",
        "colab": {
          "base_uri": "https://localhost:8080/",
          "height": 2601
        },
        "outputId": "fb363afa-d514-445f-d6d1-a51a6c40ba3d"
      },
      "source": [
        "!!git clone https://github.com/Simplilearn-Edu/Machine-Learning--Projects.git"
      ],
      "execution_count": 3,
      "outputs": [
        {
          "output_type": "execute_result",
          "data": {
            "text/plain": [
              "[\"Cloning into 'Machine-Learning--Projects'...\",\n",
              " 'remote: Enumerating objects: 50, done.\\x1b[K',\n",
              " 'remote: Counting objects:   2% (1/50)   \\x1b[K',\n",
              " 'remote: Counting objects:   4% (2/50)   \\x1b[K',\n",
              " 'remote: Counting objects:   6% (3/50)   \\x1b[K',\n",
              " 'remote: Counting objects:   8% (4/50)   \\x1b[K',\n",
              " 'remote: Counting objects:  10% (5/50)   \\x1b[K',\n",
              " 'remote: Counting objects:  12% (6/50)   \\x1b[K',\n",
              " 'remote: Counting objects:  14% (7/50)   \\x1b[K',\n",
              " 'remote: Counting objects:  16% (8/50)   \\x1b[K',\n",
              " 'remote: Counting objects:  18% (9/50)   \\x1b[K',\n",
              " 'remote: Counting objects:  20% (10/50)   \\x1b[K',\n",
              " 'remote: Counting objects:  22% (11/50)   \\x1b[K',\n",
              " 'remote: Counting objects:  24% (12/50)   \\x1b[K',\n",
              " 'remote: Counting objects:  26% (13/50)   \\x1b[K',\n",
              " 'remote: Counting objects:  28% (14/50)   \\x1b[K',\n",
              " 'remote: Counting objects:  30% (15/50)   \\x1b[K',\n",
              " 'remote: Counting objects:  32% (16/50)   \\x1b[K',\n",
              " 'remote: Counting objects:  34% (17/50)   \\x1b[K',\n",
              " 'remote: Counting objects:  36% (18/50)   \\x1b[K',\n",
              " 'remote: Counting objects:  38% (19/50)   \\x1b[K',\n",
              " 'remote: Counting objects:  40% (20/50)   \\x1b[K',\n",
              " 'remote: Counting objects:  42% (21/50)   \\x1b[K',\n",
              " 'remote: Counting objects:  44% (22/50)   \\x1b[K',\n",
              " 'remote: Counting objects:  46% (23/50)   \\x1b[K',\n",
              " 'remote: Counting objects:  48% (24/50)   \\x1b[K',\n",
              " 'remote: Counting objects:  50% (25/50)   \\x1b[K',\n",
              " 'remote: Counting objects:  52% (26/50)   \\x1b[K',\n",
              " 'remote: Counting objects:  54% (27/50)   \\x1b[K',\n",
              " 'remote: Counting objects:  56% (28/50)   \\x1b[K',\n",
              " 'remote: Counting objects:  58% (29/50)   \\x1b[K',\n",
              " 'remote: Counting objects:  60% (30/50)   \\x1b[K',\n",
              " 'remote: Counting objects:  62% (31/50)   \\x1b[K',\n",
              " 'remote: Counting objects:  64% (32/50)   \\x1b[K',\n",
              " 'remote: Counting objects:  66% (33/50)   \\x1b[K',\n",
              " 'remote: Counting objects:  68% (34/50)   \\x1b[K',\n",
              " 'remote: Counting objects:  70% (35/50)   \\x1b[K',\n",
              " 'remote: Counting objects:  72% (36/50)   \\x1b[K',\n",
              " 'remote: Counting objects:  74% (37/50)   \\x1b[K',\n",
              " 'remote: Counting objects:  76% (38/50)   \\x1b[K',\n",
              " 'remote: Counting objects:  78% (39/50)   \\x1b[K',\n",
              " 'remote: Counting objects:  80% (40/50)   \\x1b[K',\n",
              " 'remote: Counting objects:  82% (41/50)   \\x1b[K',\n",
              " 'remote: Counting objects:  84% (42/50)   \\x1b[K',\n",
              " 'remote: Counting objects:  86% (43/50)   \\x1b[K',\n",
              " 'remote: Counting objects:  88% (44/50)   \\x1b[K',\n",
              " 'remote: Counting objects:  90% (45/50)   \\x1b[K',\n",
              " 'remote: Counting objects:  92% (46/50)   \\x1b[K',\n",
              " 'remote: Counting objects:  94% (47/50)   \\x1b[K',\n",
              " 'remote: Counting objects:  96% (48/50)   \\x1b[K',\n",
              " 'remote: Counting objects:  98% (49/50)   \\x1b[K',\n",
              " 'remote: Counting objects: 100% (50/50)   \\x1b[K',\n",
              " 'remote: Counting objects: 100% (50/50), done.\\x1b[K',\n",
              " 'remote: Compressing objects:   2% (1/46)   \\x1b[K',\n",
              " 'remote: Compressing objects:   4% (2/46)   \\x1b[K',\n",
              " 'remote: Compressing objects:   6% (3/46)   \\x1b[K',\n",
              " 'remote: Compressing objects:   8% (4/46)   \\x1b[K',\n",
              " 'remote: Compressing objects:  10% (5/46)   \\x1b[K',\n",
              " 'remote: Compressing objects:  13% (6/46)   \\x1b[K',\n",
              " 'remote: Compressing objects:  15% (7/46)   \\x1b[K',\n",
              " 'remote: Compressing objects:  17% (8/46)   \\x1b[K',\n",
              " 'remote: Compressing objects:  19% (9/46)   \\x1b[K',\n",
              " 'remote: Compressing objects:  21% (10/46)   \\x1b[K',\n",
              " 'remote: Compressing objects:  23% (11/46)   \\x1b[K',\n",
              " 'remote: Compressing objects:  26% (12/46)   \\x1b[K',\n",
              " 'remote: Compressing objects:  28% (13/46)   \\x1b[K',\n",
              " 'remote: Compressing objects:  30% (14/46)   \\x1b[K',\n",
              " 'remote: Compressing objects:  32% (15/46)   \\x1b[K',\n",
              " 'remote: Compressing objects:  34% (16/46)   \\x1b[K',\n",
              " 'remote: Compressing objects:  36% (17/46)   \\x1b[K',\n",
              " 'remote: Compressing objects:  39% (18/46)   \\x1b[K',\n",
              " 'remote: Compressing objects:  41% (19/46)   \\x1b[K',\n",
              " 'remote: Compressing objects:  43% (20/46)   \\x1b[K',\n",
              " 'remote: Compressing objects:  45% (21/46)   \\x1b[K',\n",
              " 'remote: Compressing objects:  47% (22/46)   \\x1b[K',\n",
              " 'remote: Compressing objects:  50% (23/46)   \\x1b[K',\n",
              " 'remote: Compressing objects:  52% (24/46)   \\x1b[K',\n",
              " 'remote: Compressing objects:  54% (25/46)   \\x1b[K',\n",
              " 'remote: Compressing objects:  56% (26/46)   \\x1b[K',\n",
              " 'remote: Compressing objects:  58% (27/46)   \\x1b[K',\n",
              " 'remote: Compressing objects:  60% (28/46)   \\x1b[K',\n",
              " 'remote: Compressing objects:  63% (29/46)   \\x1b[K',\n",
              " 'remote: Compressing objects:  65% (30/46)   \\x1b[K',\n",
              " 'remote: Compressing objects:  67% (31/46)   \\x1b[K',\n",
              " 'remote: Compressing objects:  69% (32/46)   \\x1b[K',\n",
              " 'remote: Compressing objects:  71% (33/46)   \\x1b[K',\n",
              " 'remote: Compressing objects:  73% (34/46)   \\x1b[K',\n",
              " 'remote: Compressing objects:  76% (35/46)   \\x1b[K',\n",
              " 'remote: Compressing objects:  78% (36/46)   \\x1b[K',\n",
              " 'remote: Compressing objects:  80% (37/46)   \\x1b[K',\n",
              " 'remote: Compressing objects:  82% (38/46)   \\x1b[K',\n",
              " 'remote: Compressing objects:  84% (39/46)   \\x1b[K',\n",
              " 'remote: Compressing objects:  86% (40/46)   \\x1b[K',\n",
              " 'remote: Compressing objects:  89% (41/46)   \\x1b[K',\n",
              " 'remote: Compressing objects:  91% (42/46)   \\x1b[K',\n",
              " 'remote: Compressing objects:  93% (43/46)   \\x1b[K',\n",
              " 'remote: Compressing objects:  95% (44/46)   \\x1b[K',\n",
              " 'remote: Compressing objects:  97% (45/46)   \\x1b[K',\n",
              " 'remote: Compressing objects: 100% (46/46)   \\x1b[K',\n",
              " 'remote: Compressing objects: 100% (46/46), done.\\x1b[K',\n",
              " 'Unpacking objects:   2% (1/50)   ',\n",
              " 'Unpacking objects:   4% (2/50)   ',\n",
              " 'Unpacking objects:   6% (3/50)   ',\n",
              " 'Unpacking objects:   8% (4/50)   ',\n",
              " 'Unpacking objects:  10% (5/50)   ',\n",
              " 'Unpacking objects:  12% (6/50)   ',\n",
              " 'Unpacking objects:  14% (7/50)   ',\n",
              " 'Unpacking objects:  16% (8/50)   ',\n",
              " 'Unpacking objects:  18% (9/50)   ',\n",
              " 'Unpacking objects:  20% (10/50)   ',\n",
              " 'Unpacking objects:  22% (11/50)   ',\n",
              " 'Unpacking objects:  24% (12/50)   ',\n",
              " 'Unpacking objects:  26% (13/50)   ',\n",
              " 'Unpacking objects:  28% (14/50)   ',\n",
              " 'Unpacking objects:  30% (15/50)   ',\n",
              " 'Unpacking objects:  32% (16/50)   ',\n",
              " 'Unpacking objects:  34% (17/50)   ',\n",
              " 'Unpacking objects:  36% (18/50)   ',\n",
              " 'Unpacking objects:  38% (19/50)   ',\n",
              " 'Unpacking objects:  40% (20/50)   ',\n",
              " 'Unpacking objects:  42% (21/50)   ',\n",
              " 'Unpacking objects:  44% (22/50)   ',\n",
              " 'Unpacking objects:  46% (23/50)   ',\n",
              " 'Unpacking objects:  48% (24/50)   ',\n",
              " 'Unpacking objects:  50% (25/50)   ',\n",
              " 'Unpacking objects:  52% (26/50)   ',\n",
              " 'Unpacking objects:  54% (27/50)   ',\n",
              " 'Unpacking objects:  56% (28/50)   ',\n",
              " 'Unpacking objects:  58% (29/50)   ',\n",
              " 'Unpacking objects:  60% (30/50)   ',\n",
              " 'Unpacking objects:  62% (31/50)   ',\n",
              " 'Unpacking objects:  64% (32/50)   ',\n",
              " 'Unpacking objects:  66% (33/50)   ',\n",
              " 'Unpacking objects:  68% (34/50)   ',\n",
              " 'Unpacking objects:  70% (35/50)   ',\n",
              " 'Unpacking objects:  72% (36/50)   ',\n",
              " 'Unpacking objects:  74% (37/50)   ',\n",
              " 'Unpacking objects:  76% (38/50)   ',\n",
              " 'Unpacking objects:  78% (39/50)   ',\n",
              " 'Unpacking objects:  80% (40/50)   ',\n",
              " 'Unpacking objects:  82% (41/50)   ',\n",
              " 'Unpacking objects:  84% (42/50)   ',\n",
              " 'Unpacking objects:  86% (43/50)   ',\n",
              " 'Unpacking objects:  88% (44/50)   ',\n",
              " 'Unpacking objects:  90% (45/50)   ',\n",
              " 'Unpacking objects:  92% (46/50)   ',\n",
              " 'Unpacking objects:  94% (47/50)   ',\n",
              " 'remote: Total 50 (delta 0), reused 0 (delta 0), pack-reused 0\\x1b[K',\n",
              " 'Unpacking objects:  96% (48/50)   ',\n",
              " 'Unpacking objects:  98% (49/50)   ',\n",
              " 'Unpacking objects: 100% (50/50)   ',\n",
              " 'Unpacking objects: 100% (50/50), done.']"
            ]
          },
          "metadata": {
            "tags": []
          },
          "execution_count": 3
        }
      ]
    },
    {
      "cell_type": "code",
      "metadata": {
        "id": "FUReUKrtB0z3",
        "colab_type": "code",
        "colab": {
          "base_uri": "https://localhost:8080/",
          "height": 34
        },
        "outputId": "38ac0905-41af-4d5e-d969-b5d73c9e64b9"
      },
      "source": [
        "!ls Machine-Learning--Projects/Projects/'Projects for Submission'/'Project 2 - Income Qualification'"
      ],
      "execution_count": 4,
      "outputs": [
        {
          "output_type": "stream",
          "text": [
            "'Dataset for the project.zip'  'Income Qualification.txt'\n"
          ],
          "name": "stdout"
        }
      ]
    },
    {
      "cell_type": "code",
      "metadata": {
        "id": "1lwIJ2xJB6CQ",
        "colab_type": "code",
        "colab": {
          "base_uri": "https://localhost:8080/",
          "height": 85
        },
        "outputId": "650d0bbf-a326-48bf-ffd4-0c2e801467a9"
      },
      "source": [
        "!unzip Machine-Learning--Projects/Projects/'Projects for Submission'/'Project 2 - Income Qualification'/'Dataset for the project.zip'"
      ],
      "execution_count": 5,
      "outputs": [
        {
          "output_type": "stream",
          "text": [
            "Archive:  Machine-Learning--Projects/Projects/Projects for Submission/Project 2 - Income Qualification/Dataset for the project.zip\n",
            "   creating: Dataset for the project/\n",
            "  inflating: Dataset for the project/test.csv  \n",
            "  inflating: Dataset for the project/train.csv  \n"
          ],
          "name": "stdout"
        }
      ]
    },
    {
      "cell_type": "code",
      "metadata": {
        "id": "4QFqBOlGB5_c",
        "colab_type": "code",
        "colab": {
          "base_uri": "https://localhost:8080/",
          "height": 34
        },
        "outputId": "abede3e6-14b1-496d-a32d-aaa39057d83c"
      },
      "source": [
        "#!mv 'Dataset for the project' data\n",
        "!ls data"
      ],
      "execution_count": 17,
      "outputs": [
        {
          "output_type": "stream",
          "text": [
            "test.csv  train.csv\n"
          ],
          "name": "stdout"
        }
      ]
    },
    {
      "cell_type": "code",
      "metadata": {
        "id": "gdOryVsmCO5E",
        "colab_type": "code",
        "colab": {
          "base_uri": "https://localhost:8080/",
          "height": 204
        },
        "outputId": "589db4d5-8fcd-48f3-a7c9-9ff2fdf145b3"
      },
      "source": [
        "!pip install catboost"
      ],
      "execution_count": 11,
      "outputs": [
        {
          "output_type": "stream",
          "text": [
            "Collecting catboost\n",
            "\u001b[?25l  Downloading https://files.pythonhosted.org/packages/5a/8a/a867c35770291646b085e9248814eb32dbe2aa824715b08e40cd92d0a83e/catboost-0.15.1-cp36-none-manylinux1_x86_64.whl (61.0MB)\n",
            "\u001b[K     |████████████████████████████████| 61.1MB 1.2MB/s \n",
            "\u001b[?25hRequirement already satisfied: pandas>=0.19.1 in /usr/local/lib/python3.6/dist-packages (from catboost) (0.24.2)\n",
            "Requirement already satisfied: graphviz in /usr/local/lib/python3.6/dist-packages (from catboost) (0.10.1)\n",
            "Requirement already satisfied: numpy>=1.16.0 in /usr/local/lib/python3.6/dist-packages (from catboost) (1.16.4)\n",
            "Requirement already satisfied: six in /usr/local/lib/python3.6/dist-packages (from catboost) (1.12.0)\n",
            "Requirement already satisfied: pytz>=2011k in /usr/local/lib/python3.6/dist-packages (from pandas>=0.19.1->catboost) (2018.9)\n",
            "Requirement already satisfied: python-dateutil>=2.5.0 in /usr/local/lib/python3.6/dist-packages (from pandas>=0.19.1->catboost) (2.5.3)\n",
            "Installing collected packages: catboost\n",
            "Successfully installed catboost-0.15.1\n"
          ],
          "name": "stdout"
        }
      ]
    },
    {
      "cell_type": "code",
      "metadata": {
        "id": "FBEX6JQkBhQN",
        "colab_type": "code",
        "colab": {
          "base_uri": "https://localhost:8080/",
          "height": 34
        },
        "outputId": "30e8a171-569c-42bc-ff4f-d2ccefac601f"
      },
      "source": [
        "import numpy as np # linear algebra\n",
        "import pandas as pd # data processing, CSV file I/O (e.g. pd.read_csv)\n",
        "import datetime\n",
        "import gc\n",
        "import numpy as np\n",
        "import os\n",
        "import pandas as pd\n",
        "from tqdm import tqdm\n",
        "import warnings\n",
        "warnings.filterwarnings(action='ignore',category = DeprecationWarning)\n",
        "warnings.simplefilter(action='ignore',category = DeprecationWarning)\n",
        "\n",
        "\n",
        "from sklearn.preprocessing import LabelEncoder\n",
        "from sklearn.metrics import f1_score\n",
        "from sklearn.model_selection import KFold, RepeatedKFold, GroupKFold\n",
        "from sklearn.utils.class_weight import compute_sample_weight\n",
        "from imblearn.under_sampling import RandomUnderSampler\n",
        "from imblearn.over_sampling import ADASYN\n",
        "import category_encoders as ce\n",
        "import lightgbm as lgb\n",
        "from xgboost import XGBClassifier\n",
        "from catboost import CatBoostClassifier\n",
        "\n",
        "from time import time\n",
        "\n",
        "import scipy.stats as st\n",
        "from sklearn.pipeline import Pipeline\n",
        "from tempfile import mkdtemp\n",
        "from shutil import rmtree\n",
        "\n",
        "from sklearn.ensemble import RandomForestClassifier, GradientBoostingClassifier\n",
        "import xgboost as xgb\n",
        "\n",
        "from sklearn.metrics import confusion_matrix, accuracy_score, f1_score\n",
        "\n",
        "from sklearn.model_selection import KFold, StratifiedKFold\n",
        "from sklearn.model_selection import RandomizedSearchCV,GridSearchCV\n",
        "from sklearn.model_selection import train_test_split\n",
        "\n",
        "import matplotlib\n",
        "import matplotlib.pyplot as plt\n",
        "import seaborn as sns\n",
        "%matplotlib inline \n",
        "\n",
        "\n",
        "import os\n",
        "print(os.listdir(\"data\"))\n",
        "\n",
        "import warnings\n",
        "\n",
        "def fxn():\n",
        "    warnings.warn(\"deprecated\", DeprecationWarning)\n",
        "\n",
        "with warnings.catch_warnings(record=True) as w:\n",
        "    # Cause all warnings to always be triggered.\n",
        "    warnings.simplefilter(\"always\")\n",
        "    # Trigger a warning.\n",
        "    fxn()\n",
        "    # Verify some things\n",
        "    assert len(w) == 1\n",
        "    assert issubclass(w[-1].category, DeprecationWarning)\n",
        "    assert \"deprecated\" in str(w[-1].message)"
      ],
      "execution_count": 18,
      "outputs": [
        {
          "output_type": "stream",
          "text": [
            "['train.csv', 'test.csv']\n"
          ],
          "name": "stdout"
        }
      ]
    },
    {
      "cell_type": "code",
      "metadata": {
        "id": "-bhGlVEgB30X",
        "colab_type": "code",
        "colab": {}
      },
      "source": [
        "def dprint(*args, **kwargs):\n",
        "    print(\"[{}] \".format(datetime.datetime.now().strftime(\"%Y-%m-%d %H:%M\")) + \\\n",
        "        \" \".join(map(str,args)), **kwargs)\n",
        "\n",
        "id_name = 'Id'\n",
        "target_name = 'Target'"
      ],
      "execution_count": 0,
      "outputs": []
    },
    {
      "cell_type": "code",
      "metadata": {
        "id": "JTuTa50aCjOr",
        "colab_type": "code",
        "colab": {}
      },
      "source": [
        "# Load data\n",
        "train = pd.read_csv('data/train.csv')\n",
        "test = pd.read_csv('data/test.csv')"
      ],
      "execution_count": 0,
      "outputs": []
    },
    {
      "cell_type": "code",
      "metadata": {
        "id": "aU6b6ojyCpsm",
        "colab_type": "code",
        "colab": {
          "base_uri": "https://localhost:8080/",
          "height": 153
        },
        "outputId": "98b335bd-622c-490f-a851-a3fa815c34e8"
      },
      "source": [
        "train['is_test'] = 0\n",
        "test['is_test'] = 1\n",
        "df_all = pd.concat([train, test], axis=0)"
      ],
      "execution_count": 21,
      "outputs": [
        {
          "output_type": "stream",
          "text": [
            "/usr/local/lib/python3.6/dist-packages/ipykernel_launcher.py:3: FutureWarning: Sorting because non-concatenation axis is not aligned. A future version\n",
            "of pandas will change to not sort by default.\n",
            "\n",
            "To accept the future behavior, pass 'sort=False'.\n",
            "\n",
            "To retain the current behavior and silence the warning, pass 'sort=True'.\n",
            "\n",
            "  This is separate from the ipykernel package so we can avoid doing imports until\n"
          ],
          "name": "stderr"
        }
      ]
    },
    {
      "cell_type": "code",
      "metadata": {
        "id": "DbUHFtOwCv9M",
        "colab_type": "code",
        "colab": {
          "base_uri": "https://localhost:8080/",
          "height": 68
        },
        "outputId": "cc4c5522-66c4-45da-c509-dc2dc70a3fba"
      },
      "source": [
        "dprint('Clean features...')\n",
        "cols = ['dependency']\n",
        "for c in tqdm(cols):\n",
        "    x = df_all[c].values\n",
        "    strs = []\n",
        "    for i, v in enumerate(x):\n",
        "        try:\n",
        "            val = float(v)\n",
        "        except:\n",
        "            strs.append(v)\n",
        "            val = np.nan\n",
        "        x[i] = val\n",
        "    strs = np.unique(strs)\n",
        "\n",
        "    for s in strs:\n",
        "        df_all[c + '_' + s] = df_all[c].apply(lambda x: 1 if x == s else 0)\n",
        "\n",
        "    df_all[c] = x\n",
        "    df_all[c] = df_all[c].astype(float)\n",
        "dprint(\"Done.\")"
      ],
      "execution_count": 22,
      "outputs": [
        {
          "output_type": "stream",
          "text": [
            "100%|██████████| 1/1 [00:00<00:00, 16.16it/s]"
          ],
          "name": "stderr"
        },
        {
          "output_type": "stream",
          "text": [
            "[2019-06-05 09:51] Clean features...\n",
            "[2019-06-05 09:51] Done.\n"
          ],
          "name": "stdout"
        },
        {
          "output_type": "stream",
          "text": [
            "\n"
          ],
          "name": "stderr"
        }
      ]
    },
    {
      "cell_type": "code",
      "metadata": {
        "id": "qDINKiV0DJZZ",
        "colab_type": "code",
        "colab": {
          "base_uri": "https://localhost:8080/",
          "height": 51
        },
        "outputId": "22c70e75-d7d4-46aa-a537-bb8f5ee95984"
      },
      "source": [
        "dprint(\"Extracting features...\")\n",
        "def extract_features(df):\n",
        "    df['bedrooms_to_rooms'] = df['bedrooms']/df['rooms']\n",
        "    df['rent_to_rooms'] = df['v2a1']/df['rooms']\n",
        "    df['rent_to_bedrooms'] = df['v2a1']/df['bedrooms']\n",
        "    df['tamhog_to_rooms'] = df['tamhog']/df['rooms'] # tamhog - size of the household\n",
        "    df['tamhog_to_bedrooms'] = df['tamhog']/df['bedrooms']\n",
        "    df['r4t3_to_tamhog'] = df['r4t3']/df['tamhog'] # r4t3 - Total persons in the household\n",
        "    df['r4t3_to_rooms'] = df['r4t3']/df['rooms'] # r4t3 - Total persons in the household\n",
        "    df['r4t3_to_bedrooms'] = df['r4t3']/df['bedrooms']\n",
        "    df['rent_to_r4t3'] = df['v2a1']/df['r4t3']\n",
        "    df['v2a1_to_r4t3'] = df['v2a1']/(df['r4t3'] - df['r4t1'])\n",
        "    df['hhsize_to_rooms'] = df['hhsize']/df['rooms']\n",
        "    df['hhsize_to_bedrooms'] = df['hhsize']/df['bedrooms']\n",
        "    df['rent_to_hhsize'] = df['v2a1']/df['hhsize']\n",
        "    df['qmobilephone_to_r4t3'] = df['qmobilephone']/df['r4t3']\n",
        "    df['qmobilephone_to_v18q1'] = df['qmobilephone']/df['v18q1']\n",
        "    \n",
        "\n",
        "extract_features(train)\n",
        "extract_features(test)\n",
        "dprint(\"Done.\")         "
      ],
      "execution_count": 23,
      "outputs": [
        {
          "output_type": "stream",
          "text": [
            "[2019-06-05 09:51] Extracting features...\n",
            "[2019-06-05 09:51] Done.\n"
          ],
          "name": "stdout"
        }
      ]
    },
    {
      "cell_type": "code",
      "metadata": {
        "id": "wXhBMDBCDODd",
        "colab_type": "code",
        "colab": {}
      },
      "source": [
        "from sklearn.preprocessing import LabelEncoder\n",
        "\n",
        "def encode_data(df):\n",
        "   \n",
        "    yes_no_map = {'no': 0, 'yes': 1}\n",
        "    \n",
        "    df['dependency'] = df['dependency'].replace(yes_no_map).astype(np.float32)\n",
        "    \n",
        "    df['edjefe'] = df['edjefe'].replace(yes_no_map).astype(np.float32)\n",
        "    df['edjefa'] = df['edjefa'].replace(yes_no_map).astype(np.float32)\n",
        "    \n",
        "    df['idhogar'] = LabelEncoder().fit_transform(df['idhogar'])"
      ],
      "execution_count": 0,
      "outputs": []
    },
    {
      "cell_type": "code",
      "metadata": {
        "id": "XrvMZAG7DQkm",
        "colab_type": "code",
        "colab": {
          "base_uri": "https://localhost:8080/",
          "height": 51
        },
        "outputId": "886b3044-ffe8-481c-f6f4-63ba2a0837be"
      },
      "source": [
        "dprint(\"Encoding Data....\")\n",
        "encode_data(train)\n",
        "encode_data(test)\n",
        "dprint(\"Done...\")"
      ],
      "execution_count": 25,
      "outputs": [
        {
          "output_type": "stream",
          "text": [
            "[2019-06-05 09:51] Encoding Data....\n",
            "[2019-06-05 09:51] Done...\n"
          ],
          "name": "stdout"
        }
      ]
    },
    {
      "cell_type": "code",
      "metadata": {
        "id": "Ypm4nabADTMt",
        "colab_type": "code",
        "colab": {}
      },
      "source": [
        "def do_features(df):\n",
        "    feats_div = [('children_fraction', 'r4t1', 'r4t3'), \n",
        "                 ('working_man_fraction', 'r4h2', 'r4t3'),\n",
        "                 ('all_man_fraction', 'r4h3', 'r4t3'),\n",
        "                 ('human_density', 'tamviv', 'rooms'),\n",
        "                 ('human_bed_density', 'tamviv', 'bedrooms'),\n",
        "                 ('rent_per_person', 'v2a1', 'r4t3'),\n",
        "                 ('rent_per_room', 'v2a1', 'rooms'),\n",
        "                 ('mobile_density', 'qmobilephone', 'r4t3'),\n",
        "                 ('tablet_density', 'v18q1', 'r4t3'),\n",
        "                 ('mobile_adult_density', 'qmobilephone', 'r4t2'),\n",
        "                 ('tablet_adult_density', 'v18q1', 'r4t2'),\n",
        "                 #('', '', ''),\n",
        "                ]\n",
        "    \n",
        "    feats_sub = [('people_not_living', 'tamhog', 'tamviv'),\n",
        "                 ('people_weird_stat', 'tamhog', 'r4t3')]\n",
        "\n",
        "    for f_new, f1, f2 in feats_div:\n",
        "        df['fe_' + f_new] = (df[f1] / df[f2]).astype(np.float32)       \n",
        "    for f_new, f1, f2 in feats_sub:\n",
        "        df['fe_' + f_new] = (df[f1] - df[f2]).astype(np.float32)\n",
        "    \n",
        "    # aggregation rules over household\n",
        "    aggs_num = {'age': ['min', 'max', 'mean'],\n",
        "                'escolari': ['min', 'max', 'mean']\n",
        "               }\n",
        "    aggs_cat = {'dis': ['mean']}\n",
        "    for s_ in ['estadocivil', 'parentesco', 'instlevel']:\n",
        "        for f_ in [f_ for f_ in df.columns if f_.startswith(s_)]:\n",
        "            aggs_cat[f_] = ['mean', 'count']\n",
        "    # aggregation over household\n",
        "    for name_, df_ in [('18', df.query('age >= 18'))]:\n",
        "        df_agg = df_.groupby('idhogar').agg({**aggs_num, **aggs_cat}).astype(np.float32)\n",
        "        df_agg.columns = pd.Index(['agg' + name_ + '_' + e[0] + \"_\" + e[1].upper() for e in df_agg.columns.tolist()])\n",
        "        df = df.join(df_agg, how='left', on='idhogar')\n",
        "        del df_agg\n",
        "    # do something advanced above...\n",
        "    \n",
        "    # Drop SQB variables, as they are just squres of other vars \n",
        "    df.drop([f_ for f_ in df.columns if f_.startswith('SQB') or f_ == 'agesq'], axis=1, inplace=True)\n",
        "    # Drop id's\n",
        "    df.drop(['Id', 'idhogar'], axis=1, inplace=True)\n",
        "    # Drop repeated columns\n",
        "    df.drop(['hhsize', 'female', 'area2'], axis=1, inplace=True)\n",
        "    return df"
      ],
      "execution_count": 0,
      "outputs": []
    },
    {
      "cell_type": "code",
      "metadata": {
        "id": "-d0u9H6RDX3d",
        "colab_type": "code",
        "colab": {
          "base_uri": "https://localhost:8080/",
          "height": 51
        },
        "outputId": "f8958c65-81ac-43d0-e916-3630043a5934"
      },
      "source": [
        "dprint(\"Do_feature Engineering....\")\n",
        "train = do_features(train)\n",
        "test = do_features(test)\n",
        "dprint(\"Done....\")"
      ],
      "execution_count": 27,
      "outputs": [
        {
          "output_type": "stream",
          "text": [
            "[2019-06-05 09:52] Do_feature Engineering....\n",
            "[2019-06-05 09:52] Done....\n"
          ],
          "name": "stdout"
        }
      ]
    },
    {
      "cell_type": "code",
      "metadata": {
        "id": "af6boMJNDaa5",
        "colab_type": "code",
        "colab": {
          "base_uri": "https://localhost:8080/",
          "height": 51
        },
        "outputId": "20dece35-caa6-4844-b9fa-fb773ff7ec61"
      },
      "source": [
        "dprint(\"Fill Na value....\")\n",
        "train = train.fillna(0)\n",
        "test = test.fillna(0)\n",
        "dprint(\"Done....\")"
      ],
      "execution_count": 28,
      "outputs": [
        {
          "output_type": "stream",
          "text": [
            "[2019-06-05 10:13] Fill Na value....\n",
            "[2019-06-05 10:13] Done....\n"
          ],
          "name": "stdout"
        }
      ]
    },
    {
      "cell_type": "code",
      "metadata": {
        "id": "3b0xk92-IWaB",
        "colab_type": "code",
        "colab": {
          "base_uri": "https://localhost:8080/",
          "height": 34
        },
        "outputId": "aad0471d-272b-4891-a324-c0b1a35fb9a4"
      },
      "source": [
        "train.shape,test.shape\n"
      ],
      "execution_count": 29,
      "outputs": [
        {
          "output_type": "execute_result",
          "data": {
            "text/plain": [
              "((9557, 221), (23856, 220))"
            ]
          },
          "metadata": {
            "tags": []
          },
          "execution_count": 29
        }
      ]
    },
    {
      "cell_type": "code",
      "metadata": {
        "id": "MH7Iybm5IYKT",
        "colab_type": "code",
        "colab": {}
      },
      "source": [
        "cols_to_drop = [\n",
        "    id_name, \n",
        "    target_name,\n",
        "]\n",
        "X = train.drop(cols_to_drop, axis=1, errors='ignore')\n",
        "y = train[target_name].values\n"
      ],
      "execution_count": 0,
      "outputs": []
    },
    {
      "cell_type": "code",
      "metadata": {
        "id": "-C_LuXDVIbFE",
        "colab_type": "code",
        "colab": {
          "base_uri": "https://localhost:8080/",
          "height": 34
        },
        "outputId": "1850ff40-0b4c-459c-be88-7a3492865f41"
      },
      "source": [
        "X.shape,y.shape"
      ],
      "execution_count": 31,
      "outputs": [
        {
          "output_type": "execute_result",
          "data": {
            "text/plain": [
              "((9557, 220), (9557,))"
            ]
          },
          "metadata": {
            "tags": []
          },
          "execution_count": 31
        }
      ]
    },
    {
      "cell_type": "code",
      "metadata": {
        "id": "gXe1DQe8Id8W",
        "colab_type": "code",
        "colab": {}
      },
      "source": [
        ""
      ],
      "execution_count": 0,
      "outputs": []
    }
  ]
}